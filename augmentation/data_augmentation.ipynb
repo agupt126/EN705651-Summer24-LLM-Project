{
 "cells": [
  {
   "cell_type": "code",
   "execution_count": 1,
   "id": "277e475c-3472-485c-8796-4386ee4ebddb",
   "metadata": {},
   "outputs": [
    {
     "name": "stderr",
     "output_type": "stream",
     "text": [
      "C:\\Users\\solom\\anaconda3\\envs\\llm_project\\Lib\\site-packages\\tqdm\\auto.py:21: TqdmWarning: IProgress not found. Please update jupyter and ipywidgets. See https://ipywidgets.readthedocs.io/en/stable/user_install.html\n",
      "  from .autonotebook import tqdm as notebook_tqdm\n"
     ]
    }
   ],
   "source": [
    "import os\n",
    "import torch\n",
    "import numpy as np\n",
    "from data_augmentation import DataAugmenter\n",
    "from transformers import GPT2Tokenizer, GPT2LMHeadModel"
   ]
  },
  {
   "cell_type": "code",
   "execution_count": 2,
   "id": "c6f0e151-2d01-46d8-bab7-87fd0311535d",
   "metadata": {},
   "outputs": [],
   "source": [
    "assert torch.cuda.is_available()"
   ]
  },
  {
   "cell_type": "code",
   "execution_count": 3,
   "id": "b390ec35-2102-498b-b22f-379230cc5c7c",
   "metadata": {},
   "outputs": [
    {
     "name": "stderr",
     "output_type": "stream",
     "text": [
      "C:\\Users\\solom\\anaconda3\\envs\\llm_project\\Lib\\site-packages\\transformers\\models\\gpt2\\modeling_gpt2.py:544: UserWarning: 1Torch was not compiled with flash attention. (Triggered internally at C:\\cb\\pytorch_1000000000000\\work\\aten\\src\\ATen\\native\\transformers\\cuda\\sdp_utils.cpp:555.)\n",
      "  attn_output = torch.nn.functional.scaled_dot_product_attention(\n"
     ]
    },
    {
     "data": {
      "text/plain": [
       "tensor([3, 1])"
      ]
     },
     "execution_count": 3,
     "metadata": {},
     "output_type": "execute_result"
    }
   ],
   "source": [
    "augmenter = DataAugmenter()\n",
    "sentences = [\"The boy went to the park.\", \"She loves to read books.\"]\n",
    "inputs = augmenter.tokenizer(sentences, return_tensors='pt', padding=True, truncation=True)\n",
    "input_ids_batch = inputs['input_ids'].to('cuda')\n",
    "output, target_indices = augmenter.augment(input_ids_batch, target_indices=[5,4], do_filter=True)\n",
    "output.sum(axis=1)"
   ]
  },
  {
   "cell_type": "code",
   "execution_count": 4,
   "id": "6237b3b2-3387-40bb-967c-a63e5247a3fe",
   "metadata": {},
   "outputs": [
    {
     "data": {
      "text/plain": [
       "[['The boy went to the area.',\n",
       "  'The boy went to the bench.',\n",
       "  'The boy went to the entrance.'],\n",
       " ['She loves to read too.']]"
      ]
     },
     "execution_count": 4,
     "metadata": {},
     "output_type": "execute_result"
    }
   ],
   "source": [
    "augmenter.generate_new_sentences(input_ids_batch, target_indices, output)"
   ]
  },
  {
   "cell_type": "code",
   "execution_count": 5,
   "id": "508471e9-0b87-41ad-b82e-bf1a91adeec4",
   "metadata": {},
   "outputs": [],
   "source": [
    "batch_size = 32 # if gradient_accumulation_steps > 1, this is the micro-batch size\n",
    "block_size = 32\n",
    "data_dir = './shakespeare_data/'\n",
    "device = 'cuda' if torch.cuda.is_available() else 'cpu'"
   ]
  },
  {
   "cell_type": "code",
   "execution_count": 6,
   "id": "b0e1ae99-15fd-499b-9f0c-f2dc0af2df96",
   "metadata": {},
   "outputs": [],
   "source": [
    "def get_batch(split):\n",
    "    # We recreate np.memmap every batch to avoid a memory leak, as per\n",
    "    # https://stackoverflow.com/questions/45132940/numpy-memmap-memory-usage-want-to-iterate-once/61472122#61472122\n",
    "    if split == 'train':\n",
    "        data = np.memmap(os.path.join(data_dir, 'train.bin'), dtype=np.uint16, mode='r')\n",
    "    else:\n",
    "        data = np.memmap(os.path.join(data_dir, 'val.bin'), dtype=np.uint16, mode='r')\n",
    "    ix = torch.randint(len(data) - block_size, (batch_size,))\n",
    "    x = torch.stack([torch.from_numpy((data[i:i+block_size]).astype(np.int64)) for i in ix])\n",
    "    y = torch.stack([torch.from_numpy((data[i+1:i+1+block_size]).astype(np.int64)) for i in ix])\n",
    "    if device == 'cuda':\n",
    "        # pin arrays x,y, which allows us to move them to GPU asynchronously (non_blocking=True)\n",
    "        x, y = x.pin_memory().to(device, non_blocking=True), y.pin_memory().to(device, non_blocking=True)\n",
    "    else:\n",
    "        x, y = x.to(device), y.to(device)\n",
    "    return x, y"
   ]
  },
  {
   "cell_type": "code",
   "execution_count": 7,
   "id": "300c3696-4534-448d-92ec-2b7afcb40a81",
   "metadata": {},
   "outputs": [],
   "source": [
    "X, y = get_batch('train')"
   ]
  },
  {
   "cell_type": "code",
   "execution_count": 8,
   "id": "4c4cdfec-992d-4edf-b2ea-b02f51246155",
   "metadata": {},
   "outputs": [],
   "source": [
    "augmenter = DataAugmenter(k=3)\n",
    "output, target_indices = augmenter.augment(X, do_filter=False)"
   ]
  },
  {
   "cell_type": "code",
   "execution_count": 9,
   "id": "dbcd2d5b-3b0e-49e4-96b0-9119e3df9a44",
   "metadata": {},
   "outputs": [
    {
     "data": {
      "text/plain": [
       "tensor([3, 3, 3, 3, 3, 3, 3, 3, 3, 3, 3, 3, 3, 3, 3, 3, 3, 3, 3, 3, 3, 3, 3, 3,\n",
       "        3, 3, 3, 3, 3, 3, 3, 3])"
      ]
     },
     "execution_count": 9,
     "metadata": {},
     "output_type": "execute_result"
    }
   ],
   "source": [
    "output.sum(axis=1)"
   ]
  },
  {
   "cell_type": "code",
   "execution_count": 10,
   "id": "9011e382-8763-4c2a-902b-14ae972a0084",
   "metadata": {},
   "outputs": [
    {
     "data": {
      "text/plain": [
       "[[\" her best array;\\nBut, like a misbehaved and sullen wench,\\nThou pout'st upon thy fortune and own love\",\n",
       "  \" her best array;\\nBut, like a misbehaved and sullen wench,\\nThou pout'st upon thy fortune and good love\",\n",
       "  \" her best array;\\nBut, like a misbehaved and sullen wench,\\nThou pout'st upon thy fortune and fortune love\"],\n",
       " [\" know your daring tongue\\nScorns to unsay what once it hath deliver'd.\\nIn that dead time when Gloucester's, was plotted,\\nI\",\n",
       "  \" know your daring tongue\\nScorns to unsay what once it hath deliver'd.\\nIn that dead time when Gloucester's was was plotted,\\nI\",\n",
       "  \" know your daring tongue\\nScorns to unsay what once it hath deliver'd.\\nIn that dead time when Gloucester's had was plotted,\\nI\"],\n",
       " [', how this is encompasseth finger.\\nEven so thy breast encloseth my poor heart;\\nWear both of them, for both of them are',\n",
       "  ', how this was encompasseth finger.\\nEven so thy breast encloseth my poor heart;\\nWear both of them, for both of them are',\n",
       "  ', how this will encompasseth finger.\\nEven so thy breast encloseth my poor heart;\\nWear both of them, for both of them are'],\n",
       " [\" and I'll lay\\nA plot shall show us all a merry day.\\n\\nQUEEN:\\n is way the king will come; this is the\",\n",
       "  \" and I'll lay\\nA plot shall show us all a merry day.\\n\\nQUEEN:\\n was way the king will come; this is the\",\n",
       "  \" and I'll lay\\nA plot shall show us all a merry day.\\n\\nQUEEN:\\n will way the king will come; this is the\"],\n",
       " [':\\nMy Lord of Gloucester, in those busy days\\nWhich here you urge to prove us enemies,\\nWe follow the then our lord, our lawful',\n",
       "  ':\\nMy Lord of Gloucester, in those busy days\\nWhich here you urge to prove us enemies,\\nWe follow with then our lord, our lawful',\n",
       "  ':\\nMy Lord of Gloucester, in those busy days\\nWhich here you urge to prove us enemies,\\nWe follow by then our lord, our lawful'],\n",
       " [\" descend my throne,\\nand kneel for grace and mercy at my feet;\\nI am thy sovereign.\\n\\nYORK:\\nI am'ine\",\n",
       "  ' descend my throne,\\nand kneel for grace and mercy at my feet;\\nI am thy sovereign.\\n\\nYORK:\\nI amineine',\n",
       "  ' descend my throne,\\nand kneel for grace and mercy at my feet;\\nI am thy sovereign.\\n\\nYORK:\\nI amronesine'],\n",
       " [';\\nI speak no more than every one doth know.\\n\\nQUEEN:\\nNimble mischance, that art so light a foot,',\n",
       "  ';\\nI speak no more than every one doth know.\\n\\nQUEEN:\\nNimble mischance, that art so light mind foot,',\n",
       "  ';\\nI speak no more than every one doth know.\\n\\nQUEEN:\\nNimble mischance, that art so light heart foot,'],\n",
       " [' tend my flock;\\nSo many hours must I take my rest;\\nSo many hours must I;;\\nSo many hours must I sport myself;\\n',\n",
       "  ' tend my flock;\\nSo many hours must I take my rest;\\nSo many hours must I the;\\nSo many hours must I sport myself;\\n',\n",
       "  ' tend my flock;\\nSo many hours must I take my rest;\\nSo many hours must I my;\\nSo many hours must I sport myself;\\n'],\n",
       " ['\\nTell thou the lament, tale of me\\nAnd send the hearers weeping to their beds:\\nFor why, the senseless brands will sympathize\\nThe',\n",
       "  '\\nTell thou the lament things tale of me\\nAnd send the hearers weeping to their beds:\\nFor why, the senseless brands will sympathize\\nThe',\n",
       "  '\\nTell thou the lament tale tale of me\\nAnd send the hearers weeping to their beds:\\nFor why, the senseless brands will sympathize\\nThe'],\n",
       " [' to our forward son:\\nUnaringathe your sword, and dub him presently.\\nEdward, kneel down.\\n\\nKING HENRY VI:',\n",
       "  ' to our forward son:\\nUnathingathe your sword, and dub him presently.\\nEdward, kneel down.\\n\\nKING HENRY VI:',\n",
       "  ' to our forward son:\\nUnathedathe your sword, and dub him presently.\\nEdward, kneel down.\\n\\nKING HENRY VI:'],\n",
       " [\"Please you to interpose, fair madam: kneel\\nAnd pray your mother's blessing. Turn, good lady;\\nOursecutdita is found\",\n",
       "  \"Please you to interpose, fair madam: kneel\\nAnd pray your mother's blessing. Turn, good lady;\\nOurpetdita is found\",\n",
       "  \"Please you to interpose, fair madam: kneel\\nAnd pray your mother's blessing. Turn, good lady;\\nOurplexdita is found\"],\n",
       " [\" house;\\nLeave us to cure this cause.\\n\\nMENENI,:\\nFor 'tis a sore upon us,\\nYou cannot tent yourself:\",\n",
       "  \" house;\\nLeave us to cure this cause.\\n\\nMENENI::\\nFor 'tis a sore upon us,\\nYou cannot tent yourself:\",\n",
       "  \" house;\\nLeave us to cure this cause.\\n\\nMENENI\\n:\\nFor 'tis a sore upon us,\\nYou cannot tent yourself:\"],\n",
       " ['\\n\\nCLEOMENES:\\nGreat Apollo\\nTurn all to the best! These proclationsations,\\nSo forcing faults upon Hermione,\\nI',\n",
       "  '\\n\\nCLEOMENES:\\nGreat Apollo\\nTurn all to the best! These proclativeations,\\nSo forcing faults upon Hermione,\\nI',\n",
       "  '\\n\\nCLEOMENES:\\nGreat Apollo\\nTurn all to the best! These proclatorsations,\\nSo forcing faults upon Hermione,\\nI'],\n",
       " [' of God and, mine arm,\\nTo prove him, in defending of myself,\\nA traitor to my God, my king, and me:\\nAnd',\n",
       "  ' of God and is mine arm,\\nTo prove him, in defending of myself,\\nA traitor to my God, my king, and me:\\nAnd',\n",
       "  ' of God and was mine arm,\\nTo prove him, in defending of myself,\\nA traitor to my God, my king, and me:\\nAnd'],\n",
       " ['\\nKING EDWARD IV\\n\\nGo, trumpet, to the walls, and sound a parle.\\n\\nGLOUCESTER:\\nSee how',\n",
       "  '\\nKING EDWARD IV I\\nGo, trumpet, to the walls, and sound a parle.\\n\\nGLOUCESTER:\\nSee how',\n",
       "  '\\nKING EDWARD IV The\\nGo, trumpet, to the walls, and sound a parle.\\n\\nGLOUCESTER:\\nSee how'],\n",
       " [\" proceeding,\\nMy blood for your rude brawls doth lie a-ededing;\\nBut I'll amerce you with so strong a fine\\n\",\n",
       "  \" proceeding,\\nMy blood for your rude brawls doth lie a-akeding;\\nBut I'll amerce you with so strong a fine\\n\",\n",
       "  \" proceeding,\\nMy blood for your rude brawls doth lie a-edingeding;\\nBut I'll amerce you with so strong a fine\\n\"],\n",
       " [' grace the triumph of great Bolingbro,?\\nGardener, for telling me these news of woe,\\nPray God the plants thou graft',\n",
       "  ' grace the triumph of great Bolingbro.?\\nGardener, for telling me these news of woe,\\nPray God the plants thou graft',\n",
       "  ' grace the triumph of great Bolingbro and?\\nGardener, for telling me these news of woe,\\nPray God the plants thou graft'],\n",
       " [' of slander with thy fatal hand\\nUpon my head and all this famous land.\\n\\nEXTON:\\nFrom your own mouth, my!, did I',\n",
       "  ' of slander with thy fatal hand\\nUpon my head and all this famous land.\\n\\nEXTON:\\nFrom your own mouth, my,, did I',\n",
       "  ' of slander with thy fatal hand\\nUpon my head and all this famous land.\\n\\nEXTON:\\nFrom your own mouth, my., did I'],\n",
       " ['\\nWell, sir; my mistress is the sweetest lady--Lord,\"Lord! when \\'twas a little prating thing:--O, there',\n",
       "  \"\\nWell, sir; my mistress is the sweetest lady--Lord,(Lord! when 'twas a little prating thing:--O, there\",\n",
       "  \"\\nWell, sir; my mistress is the sweetest lady--Lord,\\nLord! when 'twas a little prating thing:--O, there\"],\n",
       " [\" Duchess of Burgundy,\\nWith aid of soldiers to this needful war.\\n\\nRICHARD:\\n'Twas odds, bel,, when\",\n",
       "  \" Duchess of Burgundy,\\nWith aid of soldiers to this needful war.\\n\\nRICHARD:\\n'Twas odds, bel., when\",\n",
       "  \" Duchess of Burgundy,\\nWith aid of soldiers to this needful war.\\n\\nRICHARD:\\n'Twas odds, bel the, when\"],\n",
       " [\" jar o' the clock behind\\nWhat lady-- her lord. You'll stay?\\n\\nPOLIXENES:\\nNo, madam.\\n\",\n",
       "  \" jar o' the clock behind\\nWhat lady-'s her lord. You'll stay?\\n\\nPOLIXENES:\\nNo, madam.\\n\",\n",
       "  \" jar o' the clock behind\\nWhat lady-ep her lord. You'll stay?\\n\\nPOLIXENES:\\nNo, madam.\\n\"],\n",
       " [\", lady, lady.''\\nNurse:\\nMarry, farewell! I pray you, sir, what saucy\\nmerchant was this,\",\n",
       "  \", lady, lady.'\\n\\nNurse:\\nMarry, farewell! I pray you, sir, what saucy\\nmerchant was this,\",\n",
       "  \", lady, lady.'The\\nNurse:\\nMarry, farewell! I pray you, sir, what saucy\\nmerchant was this,\"],\n",
       " [\" a little grave,\\nA little little grave, an obscure grave;AOr I'll be buried in the king's highway,\\nSome way of common trade\",\n",
       "  \" a little grave,\\nA little little grave, an obscure grave;TheOr I'll be buried in the king's highway,\\nSome way of common trade\",\n",
       "  \" a little grave,\\nA little little grave, an obscure grave;AndOr I'll be buried in the king's highway,\\nSome way of common trade\"],\n",
       " [\"ice\\nTo rest mistrustful where a noble heart\\nHath pawn'd an open hand in sign of love;\\nElse the I think that Clarence, Edward\",\n",
       "  \"ice\\nTo rest mistrustful where a noble heart\\nHath pawn'd an open hand in sign of love;\\nElse I I think that Clarence, Edward\",\n",
       "  \"ice\\nTo rest mistrustful where a noble heart\\nHath pawn'd an open hand in sign of love;\\nElse he I think that Clarence, Edward\"],\n",
       " [':\\nHere, my lord.\\n\\nKING RICHARD III:\\nFly to thereguke:\\nPost thou to Salisbury\\nWhen thou com',\n",
       "  ':\\nHere, my lord.\\n\\nKING RICHARD III:\\nFly to theukeuke:\\nPost thou to Salisbury\\nWhen thou com',\n",
       "  ':\\nHere, my lord.\\n\\nKING RICHARD III:\\nFly to thearksuke:\\nPost thou to Salisbury\\nWhen thou com'],\n",
       " [\" sword unsway'd?\\nIs the king dead? the empire unpossess'd?\\n is heir of York is there alive but we?\\nAnd who\",\n",
       "  \" sword unsway'd?\\nIs the king dead? the empire unpossess'd?\\n's heir of York is there alive but we?\\nAnd who\",\n",
       "  \" sword unsway'd?\\nIs the king dead? the empire unpossess'd?\\n do heir of York is there alive but we?\\nAnd who\"],\n",
       " [\", it be please plentifully.\\n\\nShepherd:\\nAway! we'll none on 't: here has been too much\\nhomely fool\",\n",
       "  \", it not please plentifully.\\n\\nShepherd:\\nAway! we'll none on 't: here has been too much\\nhomely fool\",\n",
       "  \", it take please plentifully.\\n\\nShepherd:\\nAway! we'll none on 't: here has been too much\\nhomely fool\"],\n",
       " [' glues my lips and will not let me speak.\\nCome quickly, Montague, or I am dead.\\nISOMERSET:\\nAh',\n",
       "  ' glues my lips and will not let me speak.\\nCome quickly, Montague, or I am dead.\\nYouSOMERSET:\\nAh',\n",
       "  ' glues my lips and will not let me speak.\\nCome quickly, Montague, or I am dead.\\nComeSOMERSET:\\nAh'],\n",
       " [\" of battle;\\nThe one side must have bale.\\nenceail, noble Marcius!\\n\\nMARCIUS:\\nThanks. What's the\",\n",
       "  \" of battle;\\nThe one side must have bale.\\nailail, noble Marcius!\\n\\nMARCIUS:\\nThanks. What's the\",\n",
       "  \" of battle;\\nThe one side must have bale.\\nugeail, noble Marcius!\\n\\nMARCIUS:\\nThanks. What's the\"],\n",
       " [' see\\n have talk but idly, and you laugh at me.\\nMost mighty prince, my Lord Northumberland,\\nWhat says King Bolingbro',\n",
       "  \" see\\n've talk but idly, and you laugh at me.\\nMost mighty prince, my Lord Northumberland,\\nWhat says King Bolingbro\",\n",
       "  \" see\\n'm talk but idly, and you laugh at me.\\nMost mighty prince, my Lord Northumberland,\\nWhat says King Bolingbro\"],\n",
       " [\"Who is lost too: take your patience to you,\\nAnd I'll say nothing.\\n\\nLEONTES:\\nThou did, speak but well\",\n",
       "  \"Who is lost too: take your patience to you,\\nAnd I'll say nothing.\\n\\nLEONTES:\\nThou did not speak but well\",\n",
       "  \"Who is lost too: take your patience to you,\\nAnd I'll say nothing.\\n\\nLEONTES:\\nThou did see speak but well\"],\n",
       " [\" veins,\\nThat almost freezes up the heat of life:\\nI'll call them back again to comfort me:\\nNurse! What should she? here\",\n",
       "  \" veins,\\nThat almost freezes up the heat of life:\\nI'll call them back again to comfort me:\\nNurse! What should she with here\",\n",
       "  \" veins,\\nThat almost freezes up the heat of life:\\nI'll call them back again to comfort me:\\nNurse! What should she now here\"]]"
      ]
     },
     "execution_count": 10,
     "metadata": {},
     "output_type": "execute_result"
    }
   ],
   "source": [
    "augmenter.generate_new_sentences(X, target_indices, output)"
   ]
  }
 ],
 "metadata": {
  "kernelspec": {
   "display_name": "Python 3 (ipykernel)",
   "language": "python",
   "name": "python3"
  },
  "language_info": {
   "codemirror_mode": {
    "name": "ipython",
    "version": 3
   },
   "file_extension": ".py",
   "mimetype": "text/x-python",
   "name": "python",
   "nbconvert_exporter": "python",
   "pygments_lexer": "ipython3",
   "version": "3.12.4"
  }
 },
 "nbformat": 4,
 "nbformat_minor": 5
}
